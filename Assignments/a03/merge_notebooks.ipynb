{
 "cells": [
  {
   "cell_type": "markdown",
   "id": "76315138",
   "metadata": {},
   "source": [
    "# **Notebook to merge the old assignment 03 with the new task 7.3**\n",
    "\n",
    "* If you already started solving the 'old' version of a03, simply delete the code cells for task 7.3, solve this task in the dedicated notebook and merge the old a03 with the dedicated 7.2-notebook "
   ]
  },
  {
   "cell_type": "code",
   "execution_count": null,
   "id": "d1be1654",
   "metadata": {},
   "outputs": [
    {
     "name": "stdout",
     "output_type": "stream",
     "text": [
      "Collecting nbmerge\n",
      "  Downloading nbmerge-0.0.4.tar.gz (7.6 kB)\n",
      "  Preparing metadata (setup.py): started\n",
      "  Preparing metadata (setup.py): finished with status 'done'\n",
      "Building wheels for collected packages: nbmerge\n",
      "  Building wheel for nbmerge (setup.py): started\n",
      "  Building wheel for nbmerge (setup.py): finished with status 'done'\n",
      "  Created wheel for nbmerge: filename=nbmerge-0.0.4-py2.py3-none-any.whl size=6429 sha256=851e21d4bf1dcd8a7c01b7a48661fb713926d076eb9e46d87dc1fa0acabff9e9\n",
      "  Stored in directory: c:\\users\\3leso\\appdata\\local\\pip\\cache\\wheels\\66\\ec\\e3\\e3e9f9c3007f764582fcd1d93e2c9d296355985422f62c55f1\n",
      "Successfully built nbmerge\n",
      "Installing collected packages: nbmerge\n",
      "Successfully installed nbmerge-0.0.4\n"
     ]
    }
   ],
   "source": [
    "!pip install nbmerge\n",
    "\n",
    "# afterwards, restart the kernel"
   ]
  },
  {
   "cell_type": "code",
   "execution_count": null,
   "id": "ece7224e",
   "metadata": {},
   "outputs": [],
   "source": [
    "import nbmerge\n",
    "\n",
    "!nbmerge assignment03.ipynb a03_task7_3_only.ipynb > merged_a03.ipynb\n",
    "\n",
    "# merge the old notebook with the task 7.3"
   ]
  }
 ],
 "metadata": {
  "kernelspec": {
   "display_name": "base",
   "language": "python",
   "name": "python3"
  },
  "language_info": {
   "codemirror_mode": {
    "name": "ipython",
    "version": 3
   },
   "file_extension": ".py",
   "mimetype": "text/x-python",
   "name": "python",
   "nbconvert_exporter": "python",
   "pygments_lexer": "ipython3",
   "version": "3.12.4"
  }
 },
 "nbformat": 4,
 "nbformat_minor": 5
}
